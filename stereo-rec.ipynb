{
 "cells": [
  {
   "cell_type": "markdown",
   "metadata": {},
   "source": [
    "# Stereo Reconstruction"
   ]
  },
  {
   "cell_type": "markdown",
   "metadata": {},
   "source": [
    "## Preparations"
   ]
  },
  {
   "cell_type": "code",
   "execution_count": 2,
   "metadata": {},
   "outputs": [
    {
     "name": "stderr",
     "output_type": "stream",
     "text": [
      "C:\\ProgramData\\Anaconda3\\lib\\site-packages\\pandas\\compat\\_optional.py:138: UserWarning: Pandas requires version '2.7.0' or newer of 'numexpr' (version '2.6.8' currently installed).\n",
      "  warnings.warn(msg, UserWarning)\n"
     ]
    }
   ],
   "source": [
    "import pgmpy\n",
    "import cv2\n",
    "import skimage\n",
    "import os\n",
    "import time\n",
    "import numpy"
   ]
  },
  {
   "cell_type": "code",
   "execution_count": 3,
   "metadata": {},
   "outputs": [],
   "source": [
    "# load the images from dataset-2005 subdirectories\n",
    "def load_image():\n",
    "    # load images\n",
    "    left_images = []\n",
    "    right_images = []\n",
    "    for folder in os.listdir('dataset-2005'):\n",
    "        if os.path.isdir('dataset-2005/' + folder):\n",
    "            for subfolder in os.listdir('dataset-2005/' + folder):\n",
    "                for file in os.listdir('dataset-2005/'+folder+'/'+subfolder):\n",
    "                    if file.startswith('view1'):\n",
    "                        left_img = cv2.imread('dataset-2005/'+folder+'/'+subfolder+'/'+file)\n",
    "                        left_images.append(left_img)\n",
    "                    elif file.startswith('view5'):\n",
    "                        right_img = cv2.imread('dataset-2005/'+folder+'/'+subfolder+'/'+file)\n",
    "                        right_images.append(right_img)\n",
    "    return left_images, right_images"
   ]
  },
  {
   "cell_type": "code",
   "execution_count": 44,
   "metadata": {},
   "outputs": [],
   "source": [
    "left_images, right_images = load_image()"
   ]
  },
  {
   "cell_type": "code",
   "execution_count": 1,
   "metadata": {},
   "outputs": [],
   "source": [
    "def view_images(left_images, right_images):\n",
    "    for i in range(len(left_images)):\n",
    "        cv2.imshow('left', left_images[i])\n",
    "        cv2.imshow('right', right_images[i])\n",
    "        cv2.waitKey(0)\n",
    "        cv2.destroyAllWindows()"
   ]
  },
  {
   "cell_type": "code",
   "execution_count": 45,
   "metadata": {},
   "outputs": [],
   "source": [
    "view_images(left_images, right_images)"
   ]
  }
 ],
 "metadata": {
  "interpreter": {
   "hash": "b3ba2566441a7c06988d0923437866b63cedc61552a5af99d1f4fb67d367b25f"
  },
  "kernelspec": {
   "display_name": "Python 3.7.1 64-bit ('base': conda)",
   "language": "python",
   "name": "python3"
  },
  "language_info": {
   "codemirror_mode": {
    "name": "ipython",
    "version": 3
   },
   "file_extension": ".py",
   "mimetype": "text/x-python",
   "name": "python",
   "nbconvert_exporter": "python",
   "pygments_lexer": "ipython3",
   "version": "3.7.1"
  },
  "orig_nbformat": 4
 },
 "nbformat": 4,
 "nbformat_minor": 2
}
